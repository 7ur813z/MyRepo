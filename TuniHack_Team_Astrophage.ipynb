{
  "nbformat": 4,
  "nbformat_minor": 0,
  "metadata": {
    "colab": {
      "provenance": []
    },
    "kernelspec": {
      "name": "python3",
      "display_name": "Python 3"
    },
    "language_info": {
      "name": "python"
    }
  },
  "cells": [
    {
      "cell_type": "code",
      "execution_count": null,
      "metadata": {
        "id": "Lb4Il8bdjz9-"
      },
      "outputs": [],
      "source": [
        "import pandas as pd\n",
        "import numpy as np\n",
        "import os\n",
        "import keras\n",
        "import matplotlib.pyplot as plt\n",
        "from keras.preprocessing.text import Tokenizer\n",
        "from keras_preprocessing.sequence import pad_sequences\n",
        "\n",
        "from keras.models import Sequential\n",
        "from keras.layers import Flatten, Dense, Dropout, Embedding, LSTM\n",
        "from keras import regularizers, layers, preprocessing\n",
        "from sklearn.metrics import confusion_matrix, precision_score, recall_score, accuracy_score, f1_score\n",
        "from sklearn.metrics import roc_auc_score, roc_curve, precision_recall_curve, average_precision_score\n",
        "import re\n",
        "\n",
        "import tensorflow as tf"
      ]
    },
    {
      "cell_type": "code",
      "source": [
        "df.fillna('').astype(str).apply(lambda x:x.str.len()).max()"
      ],
      "metadata": {
        "colab": {
          "base_uri": "https://localhost:8080/"
        },
        "id": "-6fMnpzUkwUG",
        "outputId": "753a2b31-4c79-43b5-8124-fe817dd5b882"
      },
      "execution_count": null,
      "outputs": [
        {
          "output_type": "execute_result",
          "data": {
            "text/plain": [
              "ID           11\n",
              "sequence    993\n",
              "label         3\n",
              "dtype: int64"
            ]
          },
          "metadata": {},
          "execution_count": 35
        }
      ]
    },
    {
      "cell_type": "code",
      "source": [
        "df.groupby('label').size().plot.bar()\n",
        "plt.show()"
      ],
      "metadata": {
        "colab": {
          "base_uri": "https://localhost:8080/",
          "height": 285
        },
        "id": "Z9peaQBvlG6Z",
        "outputId": "19579f25-ab31-4ed0-86d1-e88690c0218c"
      },
      "execution_count": null,
      "outputs": [
        {
          "output_type": "display_data",
          "data": {
            "text/plain": [
              "<Figure size 432x288 with 1 Axes>"
            ],
            "image/png": "[encoded data removed]"
          },
          "metadata": {
            "needs_background": "light"
          }
        }
      ]
    },
    {
      "cell_type": "code",
      "source": [
        "# Tokenize from characters to integers (sequences and then pad / truncate data)\n",
        "\n",
        "df_tok = df.copy()\n",
        "maxlen = 1000 # cut off after this number of characters in a string\n",
        "\n",
        "max_words = 22 \n",
        "max_features = max_words\n",
        "\n",
        "tokenizer = Tokenizer(num_words=max_words, char_level=True)\n",
        "tokenizer.fit_on_texts(list(df_tok['sequence']))\n",
        "sequences = tokenizer.texts_to_sequences(list(df_tok['sequence']))\n",
        "word_index = tokenizer.word_index\n",
        "Xpad = pad_sequences(sequences, maxlen=maxlen, padding='post', truncating='post', value=0)\n",
        "\n",
        "\n",
        "print('Found %s unique tokens.' % len(word_index))\n",
        "print('word_index', word_index)"
      ],
      "metadata": {
        "colab": {
          "base_uri": "https://localhost:8080/"
        },
        "id": "eHyueQNHlgT5",
        "outputId": "891e4826-e0b4-4843-ae8e-0092f0edbba0"
      },
      "execution_count": null,
      "outputs": [
        {
          "output_type": "stream",
          "name": "stdout",
          "text": [
            "Found 22 unique tokens.\n",
            "word_index {'l': 1, 'a': 2, 'g': 3, 'v': 4, 'i': 5, 's': 6, 't': 7, 'e': 8, 'r': 9, 'k': 10, 'f': 11, 'd': 12, 'p': 13, 'q': 14, 'n': 15, 'y': 16, 'm': 17, 'h': 18, 'w': 19, 'c': 20, 'x': 21, 'z': 22}\n"
          ]
        }
      ]
    },
    {
      "cell_type": "code",
      "source": [
        "labels = np.asarray(df_tok['label'])\n",
        "print(Xpad.shape)\n",
        "print(labels.shape)"
      ],
      "metadata": {
        "colab": {
          "base_uri": "https://localhost:8080/"
        },
        "id": "R_U6e6xSoJi1",
        "outputId": "95408b7a-c58a-4a93-8aaa-6cb6d159da5f"
      },
      "execution_count": null,
      "outputs": [
        {
          "output_type": "stream",
          "name": "stdout",
          "text": [
            "(11846, 1000)\n",
            "(11846,)\n"
          ]
        }
      ]
    },
    {
      "cell_type": "code",
      "source": [
        "rowNum = 10000\n",
        "print(df_tok['sequence'][rowNum])\n",
        "print(sequences[rowNum])\n",
        "print(Xpad[rowNum])\n",
        "print(labels[rowNum])"
      ],
      "metadata": {
        "colab": {
          "base_uri": "https://localhost:8080/"
        },
        "id": "6Ftl1ejYoqaV",
        "outputId": "d5ab6469-d77b-45a5-aa44-72647bc1e657"
      },
      "execution_count": null,
      "outputs": [
        {
          "output_type": "stream",
          "name": "stdout",
          "text": [
            "MVTKRVQRMMFAAAACIPLLLGSAPLYAQTSAVQQKLAALEKSSGGRLGVALIDTADNTQVLYRGDERFPMCSTSKVMAAAAVLKQSETQKQLLNQPVEIKPADLVNYNPIAEKHVNGTMTLAELSAAALQYSDNTAMNKLIAQLGGPGGVTAFARAIGDETFRLDRTEPTLNTAIPGDPRDTTTPRAMAQTLRQLTLGHALGETQRAQLVTWLKGNTTGAASIRAGLPTSWTVGDKTGSGGYGTTNDIAVIWPQGRAPLVLVTYFTQPQQNAESRRDVLASAARIIAEGL\n",
            "[17, 4, 7, 10, 9, 4, 14, 9, 17, 17, 11, 2, 2, 2, 2, 20, 5, 13, 1, 1, 1, 3, 6, 2, 13, 1, 16, 2, 14, 7, 6, 2, 4, 14, 14, 10, 1, 2, 2, 1, 8, 10, 6, 6, 3, 3, 9, 1, 3, 4, 2, 1, 5, 12, 7, 2, 12, 15, 7, 14, 4, 1, 16, 9, 3, 12, 8, 9, 11, 13, 17, 20, 6, 7, 6, 10, 4, 17, 2, 2, 2, 2, 4, 1, 10, 14, 6, 8, 7, 14, 10, 14, 1, 1, 15, 14, 13, 4, 8, 5, 10, 13, 2, 12, 1, 4, 15, 16, 15, 13, 5, 2, 8, 10, 18, 4, 15, 3, 7, 17, 7, 1, 2, 8, 1, 6, 2, 2, 2, 1, 14, 16, 6, 12, 15, 7, 2, 17, 15, 10, 1, 5, 2, 14, 1, 3, 3, 13, 3, 3, 4, 7, 2, 11, 2, 9, 2, 5, 3, 12, 8, 7, 11, 9, 1, 12, 9, 7, 8, 13, 7, 1, 15, 7, 2, 5, 13, 3, 12, 13, 9, 12, 7, 7, 7, 13, 9, 2, 17, 2, 14, 7, 1, 9, 14, 1, 7, 1, 3, 18, 2, 1, 3, 8, 7, 14, 9, 2, 14, 1, 4, 7, 19, 1, 10, 3, 15, 7, 7, 3, 2, 2, 6, 5, 9, 2, 3, 1, 13, 7, 6, 19, 7, 4, 3, 12, 10, 7, 3, 6, 3, 3, 16, 3, 7, 7, 15, 12, 5, 2, 4, 5, 19, 13, 14, 3, 9, 2, 13, 1, 4, 1, 4, 7, 16, 11, 7, 14, 13, 14, 14, 15, 2, 8, 6, 9, 9, 12, 4, 1, 2, 6, 2, 2, 9, 5, 5, 2, 8, 3, 1]\n",
            "[17  4  7 10  9  4 14  9 17 17 11  2  2  2  2 20  5 13  1  1  1  3  6  2\n",
            " 13  1 16  2 14  7  6  2  4 14 14 10  1  2  2  1  8 10  6  6  3  3  9  1\n",
            "  3  4  2  1  5 12  7  2 12 15  7 14  4  1 16  9  3 12  8  9 11 13 17 20\n",
            "  6  7  6 10  4 17  2  2  2  2  4  1 10 14  6  8  7 14 10 14  1  1 15 14\n",
            " 13  4  8  5 10 13  2 12  1  4 15 16 15 13  5  2  8 10 18  4 15  3  7 17\n",
            "  7  1  2  8  1  6  2  2  2  1 14 16  6 12 15  7  2 17 15 10  1  5  2 14\n",
            "  1  3  3 13  3  3  4  7  2 11  2  9  2  5  3 12  8  7 11  9  1 12  9  7\n",
            "  8 13  7  1 15  7  2  5 13  3 12 13  9 12  7  7  7 13  9  2 17  2 14  7\n",
            "  1  9 14  1  7  1  3 18  2  1  3  8  7 14  9  2 14  1  4  7 19  1 10  3\n",
            " 15  7  7  3  2  2  6  5  9  2  3  1 13  7  6 19  7  4  3 12 10  7  3  6\n",
            "  3  3 16  3  7  7 15 12  5  2  4  5 19 13 14  3  9  2 13  1  4  1  4  7\n",
            " 16 11  7 14 13 14 14 15  2  8  6  9  9 12  4  1  2  6  2  2  9  5  5  2\n",
            "  8  3  1  0  0  0  0  0  0  0  0  0  0  0  0  0  0  0  0  0  0  0  0  0\n",
            "  0  0  0  0  0  0  0  0  0  0  0  0  0  0  0  0  0  0  0  0  0  0  0  0\n",
            "  0  0  0  0  0  0  0  0  0  0  0  0  0  0  0  0  0  0  0  0  0  0  0  0\n",
            "  0  0  0  0  0  0  0  0  0  0  0  0  0  0  0  0  0  0  0  0  0  0  0  0\n",
            "  0  0  0  0  0  0  0  0  0  0  0  0  0  0  0  0  0  0  0  0  0  0  0  0\n",
            "  0  0  0  0  0  0  0  0  0  0  0  0  0  0  0  0  0  0  0  0  0  0  0  0\n",
            "  0  0  0  0  0  0  0  0  0  0  0  0  0  0  0  0  0  0  0  0  0  0  0  0\n",
            "  0  0  0  0  0  0  0  0  0  0  0  0  0  0  0  0  0  0  0  0  0  0  0  0\n",
            "  0  0  0  0  0  0  0  0  0  0  0  0  0  0  0  0  0  0  0  0  0  0  0  0\n",
            "  0  0  0  0  0  0  0  0  0  0  0  0  0  0  0  0  0  0  0  0  0  0  0  0\n",
            "  0  0  0  0  0  0  0  0  0  0  0  0  0  0  0  0  0  0  0  0  0  0  0  0\n",
            "  0  0  0  0  0  0  0  0  0  0  0  0  0  0  0  0  0  0  0  0  0  0  0  0\n",
            "  0  0  0  0  0  0  0  0  0  0  0  0  0  0  0  0  0  0  0  0  0  0  0  0\n",
            "  0  0  0  0  0  0  0  0  0  0  0  0  0  0  0  0  0  0  0  0  0  0  0  0\n",
            "  0  0  0  0  0  0  0  0  0  0  0  0  0  0  0  0  0  0  0  0  0  0  0  0\n",
            "  0  0  0  0  0  0  0  0  0  0  0  0  0  0  0  0  0  0  0  0  0  0  0  0\n",
            "  0  0  0  0  0  0  0  0  0  0  0  0  0  0  0  0  0  0  0  0  0  0  0  0\n",
            "  0  0  0  0  0  0  0  0  0  0  0  0  0  0  0  0  0  0  0  0  0  0  0  0\n",
            "  0  0  0  0  0  0  0  0  0  0  0  0  0  0  0  0  0  0  0  0  0  0  0  0\n",
            "  0  0  0  0  0  0  0  0  0  0  0  0  0  0  0  0  0  0  0  0  0  0  0  0\n",
            "  0  0  0  0  0  0  0  0  0  0  0  0  0  0  0  0  0  0  0  0  0  0  0  0\n",
            "  0  0  0  0  0  0  0  0  0  0  0  0  0  0  0  0  0  0  0  0  0  0  0  0\n",
            "  0  0  0  0  0  0  0  0  0  0  0  0  0  0  0  0  0  0  0  0  0  0  0  0\n",
            "  0  0  0  0  0  0  0  0  0  0  0  0  0  0  0  0  0  0  0  0  0  0  0  0\n",
            "  0  0  0  0  0  0  0  0  0  0  0  0  0  0  0  0  0  0  0  0  0  0  0  0\n",
            "  0  0  0  0  0  0  0  0  0  0  0  0  0  0  0  0  0  0  0  0  0  0  0  0\n",
            "  0  0  0  0  0  0  0  0  0  0  0  0  0  0  0  0  0  0  0  0  0  0  0  0\n",
            "  0  0  0  0  0  0  0  0  0  0  0  0  0  0  0  0  0  0  0  0  0  0  0  0\n",
            "  0  0  0  0  0  0  0  0  0  0  0  0  0  0  0  0  0  0  0  0  0  0  0  0\n",
            "  0  0  0  0  0  0  0  0  0  0  0  0  0  0  0  0]\n",
            "1.0\n"
          ]
        }
      ]
    },
    {
      "cell_type": "code",
      "source": [
        "training_samples = int(Xpad.shape[0] * 0.9)\n",
        "\n",
        "indices = np.arange(Xpad.shape[0])\n",
        "np.random.shuffle(indices) \n",
        "\n",
        "Xpad = Xpad[indices]\n",
        "labels = labels[indices]\n",
        "\n",
        "x_train = Xpad[:training_samples]\n",
        "y_train = labels[:training_samples]\n",
        "x_test = Xpad[training_samples: ]\n",
        "y_test = labels[training_samples: ]\n",
        "\n",
        "print('x_train', x_train.shape)\n",
        "print('y_train', y_train.shape)\n",
        "print('x_test', x_test.shape)\n",
        "print('y_test', y_test.shape)"
      ],
      "metadata": {
        "colab": {
          "base_uri": "https://localhost:8080/"
        },
        "id": "jWXGLLw1phZk",
        "outputId": "30081ab3-c76f-42d1-b7c5-e58dfcf77f1e"
      },
      "execution_count": null,
      "outputs": [
        {
          "output_type": "stream",
          "name": "stdout",
          "text": [
            "x_train (10661, 1000)\n",
            "y_train (10661,)\n",
            "x_test (1185, 1000)\n",
            "y_test (1185,)\n"
          ]
        }
      ]
    },
    {
      "cell_type": "code",
      "source": [
        "model = Sequential()\n",
        "model.add(Embedding(22, 1, input_length=maxlen))\n",
        "model.add(layers.Conv1D(128, 27, activation='relu'))\n",
        "model.add(layers.MaxPooling1D(9))\n",
        "model.add(layers.Dropout(0.5))\n",
        "model.add(layers.Conv1D(128, 9, activation='relu'))\n",
        "model.add(layers.Dropout(0.5))\n",
        "model.add(layers.Bidirectional(layers.GRU(32, dropout=0.2, recurrent_dropout=0.2)))\n",
        "model.add(Dense(1, activation='sigmoid'))\n",
        "model.compile(optimizer='adam', loss='binary_crossentropy', metrics=['acc'])\n",
        "model.summary()"
      ],
      "metadata": {
        "colab": {
          "base_uri": "https://localhost:8080/"
        },
        "id": "V0E2KSTdpiZu",
        "outputId": "d019d802-a749-422b-b1ed-e6cfdd5304f8"
      },
      "execution_count": null,
      "outputs": [
        {
          "output_type": "stream",
          "name": "stdout",
          "text": [
            "Model: \"sequential_1\"\n",
            "_________________________________________________________________\n",
            " Layer (type)                Output Shape              Param #   \n",
            "=================================================================\n",
            " embedding_1 (Embedding)     (None, 1000, 1)           22        \n",
            "                                                                 \n",
            " conv1d_2 (Conv1D)           (None, 974, 128)          3584      \n",
            "                                                                 \n",
            " max_pooling1d_1 (MaxPooling  (None, 108, 128)         0         \n",
            " 1D)                                                             \n",
            "                                                                 \n",
            " dropout_2 (Dropout)         (None, 108, 128)          0         \n",
            "                                                                 \n",
            " conv1d_3 (Conv1D)           (None, 100, 128)          147584    \n",
            "                                                                 \n",
            " dropout_3 (Dropout)         (None, 100, 128)          0         \n",
            "                                                                 \n",
            " bidirectional_1 (Bidirectio  (None, 64)               31104     \n",
            " nal)                                                            \n",
            "                                                                 \n",
            " dense_1 (Dense)             (None, 1)                 65        \n",
            "                                                                 \n",
            "=================================================================\n",
            "Total params: 182,359\n",
            "Trainable params: 182,359\n",
            "Non-trainable params: 0\n",
            "_________________________________________________________________\n"
          ]
        }
      ]
    },
    {
      "cell_type": "code",
      "source": [
        "history = model.fit(x_train, y_train,\n",
        "epochs = 10,\n",
        "batch_size=32,\n",
        "validation_split=0.2)"
      ],
      "metadata": {
        "colab": {
          "base_uri": "https://localhost:8080/"
        },
        "id": "A0qf7Tw4picp",
        "outputId": "5b8b3150-ed10-4722-dc3c-545d8b2c11a4"
      },
      "execution_count": null,
      "outputs": [
        {
          "output_type": "stream",
          "name": "stdout",
          "text": [
            "Epoch 1/10\n",
            "267/267 [==============================] - 110s 388ms/step - loss: 0.4460 - acc: 0.7880 - val_loss: 0.3176 - val_acc: 0.8664\n",
            "Epoch 2/10\n",
            "267/267 [==============================] - 102s 383ms/step - loss: 0.2726 - acc: 0.8911 - val_loss: 0.2959 - val_acc: 0.8856\n",
            "Epoch 3/10\n",
            "267/267 [==============================] - 101s 379ms/step - loss: 0.2085 - acc: 0.9194 - val_loss: 0.1844 - val_acc: 0.9259\n",
            "Epoch 4/10\n",
            "267/267 [==============================] - 101s 377ms/step - loss: 0.1796 - acc: 0.9329 - val_loss: 0.1602 - val_acc: 0.9339\n",
            "Epoch 5/10\n",
            "267/267 [==============================] - 102s 381ms/step - loss: 0.1584 - acc: 0.9409 - val_loss: 0.1598 - val_acc: 0.9339\n",
            "Epoch 6/10\n",
            "267/267 [==============================] - 101s 380ms/step - loss: 0.1494 - acc: 0.9457 - val_loss: 0.1625 - val_acc: 0.9437\n",
            "Epoch 7/10\n",
            "267/267 [==============================] - 100s 374ms/step - loss: 0.1319 - acc: 0.9505 - val_loss: 0.1257 - val_acc: 0.9550\n",
            "Epoch 8/10\n",
            "267/267 [==============================] - 102s 381ms/step - loss: 0.1243 - acc: 0.9530 - val_loss: 0.1203 - val_acc: 0.9569\n",
            "Epoch 9/10\n",
            "267/267 [==============================] - 104s 391ms/step - loss: 0.1178 - acc: 0.9550 - val_loss: 0.1234 - val_acc: 0.9541\n",
            "Epoch 10/10\n",
            "267/267 [==============================] - 101s 378ms/step - loss: 0.1062 - acc: 0.9602 - val_loss: 0.1120 - val_acc: 0.9536\n"
          ]
        }
      ]
    },
    {
      "cell_type": "code",
      "source": [
        "plt.clf()\n",
        "history_dict = history.history\n",
        "loss_values = history_dict['loss']\n",
        "val_loss_values = history_dict['val_loss']\n",
        "epochs = range(1, (len(history_dict['loss']) + 1))\n",
        "plt.plot(epochs, loss_values, 'bo', label='Training loss')\n",
        "plt.plot(epochs, val_loss_values, 'r', label='Validation loss')\n",
        "plt.title('Training and validation loss')\n",
        "plt.xlabel('Epochs')\n",
        "plt.ylabel('Loss')\n",
        "plt.legend()\n",
        "plt.show()\n",
        "\n",
        "\n",
        "plt.clf()\n",
        "acc_values = history_dict['acc']\n",
        "val_acc_values = history_dict['val_acc']\n",
        "epochs = range(1, (len(history_dict['acc']) + 1))\n",
        "plt.plot(epochs, acc_values, 'bo', label='Training acc')\n",
        "plt.plot(epochs, val_acc_values, 'r', label='Validation acc')\n",
        "plt.title('Training and validation accuracy')\n",
        "plt.xlabel('Epochs')\n",
        "plt.ylabel('Accuracy')\n",
        "plt.legend()\n",
        "plt.show()\n"
      ],
      "metadata": {
        "colab": {
          "base_uri": "https://localhost:8080/",
          "height": 573
        },
        "id": "Al9M4Gejpig2",
        "outputId": "e96072d6-864b-4350-fa82-dcb4600a65ca"
      },
      "execution_count": null,
      "outputs": [
        {
          "output_type": "display_data",
          "data": {
            "text/plain": [
              "<Figure size 432x288 with 1 Axes>"
            ],
            "image/png": "[encoded data removed]"
          },
          "metadata": {
            "needs_background": "light"
          }
        },
        {
          "output_type": "display_data",
          "data": {
            "text/plain": [
              "<Figure size 432x288 with 1 Axes>"
            ],
            "image/png": "[encoded data removed]"
          },
          "metadata": {
            "needs_background": "light"
          }
        }
      ]
    },
    {
      "cell_type": "code",
      "source": [
        "final_predictions = model.predict(x_test)\n",
        "print(final_predictions)\n",
        "\n",
        "Preds = final_predictions.copy()\n",
        "print(len(Preds))\n",
        "\n",
        "Preds[ np.where( Preds >= 0.5 ) ] = 1\n",
        "Preds[ np.where( Preds < 0.5 ) ] = 0\n",
        "print(Preds)"
      ],
      "metadata": {
        "colab": {
          "base_uri": "https://localhost:8080/"
        },
        "id": "aTn0sT3Gpijh",
        "outputId": "abe8f633-f9ed-450f-ec04-4779cc47d61f"
      },
      "execution_count": null,
      "outputs": [
        {
          "output_type": "stream",
          "name": "stdout",
          "text": [
            "38/38 [==============================] - 2s 57ms/step\n",
            "[[9.9861193e-01]\n",
            " [9.8962390e-01]\n",
            " [4.3188315e-02]\n",
            " ...\n",
            " [1.4516422e-01]\n",
            " [9.9531901e-01]\n",
            " [8.3564461e-05]]\n",
            "1185\n",
            "[[1.]\n",
            " [1.]\n",
            " [0.]\n",
            " ...\n",
            " [0.]\n",
            " [1.]\n",
            " [0.]]\n"
          ]
        }
      ]
    },
    {
      "cell_type": "code",
      "source": [
        "conf_mx = confusion_matrix(y_test, Preds)\n",
        "\n",
        "TN = conf_mx[0,0]\n",
        "FP = conf_mx[0,1]\n",
        "FN = conf_mx[1,0]\n",
        "TP = conf_mx[1,1]\n",
        "\n",
        "print ('TN: ', TN)\n",
        "print ('FP: ', FP)\n",
        "print ('FN: ', FN)\n",
        "print ('TP: ', TP)\n",
        "\n",
        "recall = TP/(TP+FN)\n",
        "precision = TP/(TP+FP)\n",
        "\n",
        "print (recall, precision)"
      ],
      "metadata": {
        "colab": {
          "base_uri": "https://localhost:8080/"
        },
        "id": "AQDSWXNrpilY",
        "outputId": "4f5d24c2-938b-4759-f4a4-22a57391536d"
      },
      "execution_count": null,
      "outputs": [
        {
          "output_type": "stream",
          "name": "stdout",
          "text": [
            "TN:  564\n",
            "FP:  28\n",
            "FN:  24\n",
            "TP:  569\n",
            "0.9595278246205734 0.9530988274706867\n"
          ]
        }
      ]
    },
    {
      "cell_type": "code",
      "source": [
        "print ('precision ',precision_score(y_test, Preds))\n",
        "print ('recall ',recall_score(y_test, Preds) )\n",
        "print ('accuracy ',accuracy_score(y_test, Preds))\n",
        "print ('F1 score ',f1_score(y_test, Preds))"
      ],
      "metadata": {
        "colab": {
          "base_uri": "https://localhost:8080/"
        },
        "id": "O3uLctk4pin8",
        "outputId": "4bc4fdc4-8139-47b5-a759-553e305aa66c"
      },
      "execution_count": null,
      "outputs": [
        {
          "output_type": "stream",
          "name": "stdout",
          "text": [
            "precision  0.9530988274706867\n",
            "recall  0.9595278246205734\n",
            "accuracy  0.9561181434599156\n",
            "F1 score  0.9563025210084035\n"
          ]
        }
      ]
    },
    {
      "cell_type": "code",
      "source": [
        "auc = roc_auc_score(y_test, Preds)\n",
        "print('AUC: %.3f' % auc)\n",
        "\n",
        "fpr, tpr, thresholds = roc_curve(y_test, Preds)\n",
        "plt.plot([0, 1], [0, 1], linestyle='--')\n",
        "\n",
        "plt.plot(fpr, tpr, marker='.')\n",
        "plt.title('ROC ')\n",
        "plt.show()"
      ],
      "metadata": {
        "colab": {
          "base_uri": "https://localhost:8080/",
          "height": 298
        },
        "id": "oUi_cNLLpiqY",
        "outputId": "2c438639-13e0-4623-e286-8238aa3f97b1"
      },
      "execution_count": null,
      "outputs": [
        {
          "output_type": "stream",
          "name": "stdout",
          "text": [
            "AUC: 0.956\n"
          ]
        },
        {
          "output_type": "display_data",
          "data": {
            "text/plain": [
              "<Figure size 432x288 with 1 Axes>"
            ],
            "image/png": "[encoded data removed]"
          },
          "metadata": {
            "needs_background": "light"
          }
        }
      ]
    },
    {
      "cell_type": "code",
      "source": [],
      "metadata": {
        "id": "bzvjUcUDpitL"
      },
      "execution_count": null,
      "outputs": []
    }
  ]
}